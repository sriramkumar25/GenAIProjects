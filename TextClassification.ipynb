{
  "nbformat": 4,
  "nbformat_minor": 0,
  "metadata": {
    "colab": {
      "provenance": [],
      "gpuType": "T4",
      "authorship_tag": "ABX9TyNZE68gBy7ntk1sO7gHuOQG",
      "include_colab_link": true
    },
    "kernelspec": {
      "name": "python3",
      "display_name": "Python 3"
    },
    "language_info": {
      "name": "python"
    },
    "accelerator": "GPU"
  },
  "cells": [
    {
      "cell_type": "markdown",
      "metadata": {
        "id": "view-in-github",
        "colab_type": "text"
      },
      "source": [
        "<a href=\"https://colab.research.google.com/github/sriramkumar25/GenAIProjects/blob/main/TextClassification.ipynb\" target=\"_parent\"><img src=\"https://colab.research.google.com/assets/colab-badge.svg\" alt=\"Open In Colab\"/></a>"
      ]
    },
    {
      "cell_type": "markdown",
      "source": [
        "# Sentiment Analysis Project\n",
        "\n",
        "## Overview\n",
        "This project aims to classify text into three sentiment categories: **Positive**, **Neutral**, and **Negative**, using a pre-trained transformer model from the Hugging Face library.\n",
        "\n",
        "---\n",
        "\n",
        "## Features\n",
        "- Sentiment analysis using state-of-the-art pre-trained models.\n",
        "- Predicts sentiment for individual sentences or batches of text.\n",
        "- Supports further fine-tuning for domain-specific datasets (optional).\n",
        "\n",
        "---\n",
        "\n",
        "## Installation\n",
        "Install the required dependencies:\n",
        "```bash\n",
        "pip install transformers datasets torch\n",
        "```\n",
        "\n",
        "## Model\n",
        "\n",
        "The project uses the following pre-trained model:\n",
        "\n",
        "- **Model Name**: `cardiffnlp/twitter-roberta-base-sentiment`\n",
        "- **Library**: Hugging Face Transformers\n",
        "- **Sentiment Categories**:\n",
        "  - Negative\n",
        "  - Neutral\n",
        "  - Positive\n"
      ],
      "metadata": {
        "id": "EgxBJ8cmq3tB"
      }
    },
    {
      "cell_type": "code",
      "execution_count": 30,
      "metadata": {
        "colab": {
          "base_uri": "https://localhost:8080/"
        },
        "collapsed": true,
        "id": "yQPC_SrDWBxZ",
        "outputId": "7be6a2ef-a4a4-4869-d66a-a4cd50312396"
      },
      "outputs": [
        {
          "output_type": "stream",
          "name": "stdout",
          "text": [
            "Requirement already satisfied: transformers in /usr/local/lib/python3.10/dist-packages (4.46.2)\n",
            "Requirement already satisfied: datasets in /usr/local/lib/python3.10/dist-packages (3.1.0)\n",
            "Requirement already satisfied: filelock in /usr/local/lib/python3.10/dist-packages (from transformers) (3.16.1)\n",
            "Requirement already satisfied: huggingface-hub<1.0,>=0.23.2 in /usr/local/lib/python3.10/dist-packages (from transformers) (0.26.2)\n",
            "Requirement already satisfied: numpy>=1.17 in /usr/local/lib/python3.10/dist-packages (from transformers) (1.26.4)\n",
            "Requirement already satisfied: packaging>=20.0 in /usr/local/lib/python3.10/dist-packages (from transformers) (24.2)\n",
            "Requirement already satisfied: pyyaml>=5.1 in /usr/local/lib/python3.10/dist-packages (from transformers) (6.0.2)\n",
            "Requirement already satisfied: regex!=2019.12.17 in /usr/local/lib/python3.10/dist-packages (from transformers) (2024.9.11)\n",
            "Requirement already satisfied: requests in /usr/local/lib/python3.10/dist-packages (from transformers) (2.32.3)\n",
            "Requirement already satisfied: safetensors>=0.4.1 in /usr/local/lib/python3.10/dist-packages (from transformers) (0.4.5)\n",
            "Requirement already satisfied: tokenizers<0.21,>=0.20 in /usr/local/lib/python3.10/dist-packages (from transformers) (0.20.3)\n",
            "Requirement already satisfied: tqdm>=4.27 in /usr/local/lib/python3.10/dist-packages (from transformers) (4.66.6)\n",
            "Requirement already satisfied: pyarrow>=15.0.0 in /usr/local/lib/python3.10/dist-packages (from datasets) (17.0.0)\n",
            "Requirement already satisfied: dill<0.3.9,>=0.3.0 in /usr/local/lib/python3.10/dist-packages (from datasets) (0.3.8)\n",
            "Requirement already satisfied: pandas in /usr/local/lib/python3.10/dist-packages (from datasets) (2.2.2)\n",
            "Requirement already satisfied: xxhash in /usr/local/lib/python3.10/dist-packages (from datasets) (3.5.0)\n",
            "Requirement already satisfied: multiprocess<0.70.17 in /usr/local/lib/python3.10/dist-packages (from datasets) (0.70.16)\n",
            "Requirement already satisfied: fsspec<=2024.9.0,>=2023.1.0 in /usr/local/lib/python3.10/dist-packages (from fsspec[http]<=2024.9.0,>=2023.1.0->datasets) (2024.9.0)\n",
            "Requirement already satisfied: aiohttp in /usr/local/lib/python3.10/dist-packages (from datasets) (3.10.10)\n",
            "Requirement already satisfied: aiohappyeyeballs>=2.3.0 in /usr/local/lib/python3.10/dist-packages (from aiohttp->datasets) (2.4.3)\n",
            "Requirement already satisfied: aiosignal>=1.1.2 in /usr/local/lib/python3.10/dist-packages (from aiohttp->datasets) (1.3.1)\n",
            "Requirement already satisfied: attrs>=17.3.0 in /usr/local/lib/python3.10/dist-packages (from aiohttp->datasets) (24.2.0)\n",
            "Requirement already satisfied: frozenlist>=1.1.1 in /usr/local/lib/python3.10/dist-packages (from aiohttp->datasets) (1.5.0)\n",
            "Requirement already satisfied: multidict<7.0,>=4.5 in /usr/local/lib/python3.10/dist-packages (from aiohttp->datasets) (6.1.0)\n",
            "Requirement already satisfied: yarl<2.0,>=1.12.0 in /usr/local/lib/python3.10/dist-packages (from aiohttp->datasets) (1.17.1)\n",
            "Requirement already satisfied: async-timeout<5.0,>=4.0 in /usr/local/lib/python3.10/dist-packages (from aiohttp->datasets) (4.0.3)\n",
            "Requirement already satisfied: typing-extensions>=3.7.4.3 in /usr/local/lib/python3.10/dist-packages (from huggingface-hub<1.0,>=0.23.2->transformers) (4.12.2)\n",
            "Requirement already satisfied: charset-normalizer<4,>=2 in /usr/local/lib/python3.10/dist-packages (from requests->transformers) (3.4.0)\n",
            "Requirement already satisfied: idna<4,>=2.5 in /usr/local/lib/python3.10/dist-packages (from requests->transformers) (3.10)\n",
            "Requirement already satisfied: urllib3<3,>=1.21.1 in /usr/local/lib/python3.10/dist-packages (from requests->transformers) (2.2.3)\n",
            "Requirement already satisfied: certifi>=2017.4.17 in /usr/local/lib/python3.10/dist-packages (from requests->transformers) (2024.8.30)\n",
            "Requirement already satisfied: python-dateutil>=2.8.2 in /usr/local/lib/python3.10/dist-packages (from pandas->datasets) (2.8.2)\n",
            "Requirement already satisfied: pytz>=2020.1 in /usr/local/lib/python3.10/dist-packages (from pandas->datasets) (2024.2)\n",
            "Requirement already satisfied: tzdata>=2022.7 in /usr/local/lib/python3.10/dist-packages (from pandas->datasets) (2024.2)\n",
            "Requirement already satisfied: six>=1.5 in /usr/local/lib/python3.10/dist-packages (from python-dateutil>=2.8.2->pandas->datasets) (1.16.0)\n",
            "Requirement already satisfied: propcache>=0.2.0 in /usr/local/lib/python3.10/dist-packages (from yarl<2.0,>=1.12.0->aiohttp->datasets) (0.2.0)\n"
          ]
        }
      ],
      "source": [
        "!pip install transformers datasets\n"
      ]
    },
    {
      "cell_type": "code",
      "source": [
        "from transformers import AutoTokenizer , AutoModelForSequenceClassification\n",
        "import torch"
      ],
      "metadata": {
        "id": "84tN7bSFl88U"
      },
      "execution_count": 31,
      "outputs": []
    },
    {
      "cell_type": "code",
      "source": [
        "model_name=\"cardiffnlp/twitter-roberta-base-sentiment\"\n",
        "tokenizer=AutoTokenizer.from_pretrained(model_name)\n",
        "model=AutoModelForSequenceClassification.from_pretrained(model_name)"
      ],
      "metadata": {
        "id": "y7H2pcaGiegV"
      },
      "execution_count": 32,
      "outputs": []
    },
    {
      "cell_type": "code",
      "source": [
        "labels={2:\"Positive\",0:\"Negative\",1:\"Neutral\"}"
      ],
      "metadata": {
        "id": "2jOpN3JdlFif"
      },
      "execution_count": 33,
      "outputs": []
    },
    {
      "cell_type": "code",
      "source": [
        "def preprocess_text(text):\n",
        "  return tokenizer(text, return_tensors=\"pt\", truncation=True, padding=True,max_length=512)"
      ],
      "metadata": {
        "id": "7a6hxmTelnI-"
      },
      "execution_count": 34,
      "outputs": []
    },
    {
      "cell_type": "code",
      "source": [
        "def predict(text):\n",
        "  input=preprocess_text(text)\n",
        "  with torch.no_grad():\n",
        "    output=model(**input)\n",
        "    logits=output.logits\n",
        "    predicted_class = torch.argmax(logits, dim=1).item()\n",
        "  return labels[predicted_class]"
      ],
      "metadata": {
        "id": "jrFIdsiJmB9X"
      },
      "execution_count": 37,
      "outputs": []
    },
    {
      "cell_type": "code",
      "source": [
        "sentences=[\"I absolutely love the new design; it's stunning!\",\n",
        "\"This is the worst experience I’ve ever had with a product.\",\n",
        "\"The food was just okay, nothing special.\",\n",
        "\"I'm so excited about the upcoming trip; it’s going to be amazing!\",\n",
        "\"The customer service was horrible and unhelpful.\",\n",
        "\"The movie was fine, but I wouldn’t watch it again.\",\n",
        "\"What a fantastic performance; I’m truly impressed!\",\n",
        "\"I feel indifferent about the changes in the app.\",\n",
        "\"The package arrived broken, and I’m really upset.\",\n",
        "\"The event exceeded all my expectations; I had a great time!\"]\n",
        "for text in sentences:\n",
        "  sentiment=predict(text)\n",
        "  print(f'Text: {text}')\n",
        "  print(f'Sentiment: {sentiment}')"
      ],
      "metadata": {
        "id": "K3ZV7cp4msYF",
        "outputId": "38cd1d04-8f43-4fb8-9fed-694b484a711a",
        "colab": {
          "base_uri": "https://localhost:8080/"
        }
      },
      "execution_count": 36,
      "outputs": [
        {
          "output_type": "stream",
          "name": "stdout",
          "text": [
            "Text: I absolutely love the new design; it's stunning!\n",
            "Sentiment: Positive\n",
            "Text: This is the worst experience I’ve ever had with a product.\n",
            "Sentiment: Negative\n",
            "Text: The food was just okay, nothing special.\n",
            "Sentiment: Neutral\n",
            "Text: I'm so excited about the upcoming trip; it’s going to be amazing!\n",
            "Sentiment: Positive\n",
            "Text: The customer service was horrible and unhelpful.\n",
            "Sentiment: Negative\n",
            "Text: The movie was fine, but I wouldn’t watch it again.\n",
            "Sentiment: Negative\n",
            "Text: What a fantastic performance; I’m truly impressed!\n",
            "Sentiment: Positive\n",
            "Text: I feel indifferent about the changes in the app.\n",
            "Sentiment: Negative\n",
            "Text: The package arrived broken, and I’m really upset.\n",
            "Sentiment: Negative\n",
            "Text: The event exceeded all my expectations; I had a great time!\n",
            "Sentiment: Positive\n"
          ]
        }
      ]
    }
  ]
}