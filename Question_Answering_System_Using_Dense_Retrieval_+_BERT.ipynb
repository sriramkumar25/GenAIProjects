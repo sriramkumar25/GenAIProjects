{
  "nbformat": 4,
  "nbformat_minor": 0,
  "metadata": {
    "colab": {
      "provenance": [],
      "gpuType": "T4",
      "authorship_tag": "ABX9TyO8twF3kmIHQtfDYBKefHou",
      "include_colab_link": true
    },
    "kernelspec": {
      "name": "python3",
      "display_name": "Python 3"
    },
    "language_info": {
      "name": "python"
    },
    "accelerator": "GPU"
  },
  "cells": [
    {
      "cell_type": "markdown",
      "metadata": {
        "id": "view-in-github",
        "colab_type": "text"
      },
      "source": [
        "<a href=\"https://colab.research.google.com/github/sriramkumar25/GenAIProjects/blob/main/Question_Answering_System_Using_Dense_Retrieval_%2B_BERT.ipynb\" target=\"_parent\"><img src=\"https://colab.research.google.com/assets/colab-badge.svg\" alt=\"Open In Colab\"/></a>"
      ]
    },
    {
      "cell_type": "markdown",
      "source": [
        "# Question Answering System Using Dense Retrieval + BERT\n",
        "\n",
        "## Overview\n",
        "This system combines **Dense Retrieval** with **BERT** to extract answers from a knowledge base. It first converts documents into dense embeddings using **SentenceTransformers** and stores them in a **FAISS** index for fast retrieval. Then, **BERT** is used to extract the most relevant answer from the retrieved documents.\n",
        "\n",
        "## Features\n",
        "- **Dense Retrieval**: Uses **SentenceTransformers** for document embeddings and **FAISS** for efficient retrieval.\n",
        "- **BERT for QA**: Utilizes the pre-trained BERT model to extract answers from retrieved documents.\n",
        "- **Customizable**: Supports a variety of document sources for answering different types of queries.\n",
        "\n",
        "## Tools & Technologies\n",
        "- **SentenceTransformers**: For creating dense vector representations of documents.\n",
        "- **FAISS**: For fast similarity-based document retrieval.\n",
        "- **BERT**: For answer extraction from the retrieved documents.\n",
        "- **Python** (transformers, faiss, sentence-transformers)\n",
        "\n",
        "## Workflow\n",
        "1. Convert documents into dense embeddings.\n",
        "2. Index the embeddings in a **FAISS** index.\n",
        "3. Use a query to retrieve the most relevant documents.\n",
        "4. Apply **BERT** to extract the answer from the top documents.\n"
      ],
      "metadata": {
        "id": "OhmqrINR3bka"
      }
    },
    {
      "cell_type": "code",
      "source": [
        "!pip install faiss-gpu sentence-transformers transformers torch"
      ],
      "metadata": {
        "colab": {
          "base_uri": "https://localhost:8080/"
        },
        "id": "gFS3IppM1eF4",
        "outputId": "6463b47c-6b2f-4726-8f51-78f257b74f50"
      },
      "execution_count": 5,
      "outputs": [
        {
          "output_type": "stream",
          "name": "stdout",
          "text": [
            "Requirement already satisfied: faiss-gpu in /usr/local/lib/python3.10/dist-packages (1.7.2)\n",
            "Requirement already satisfied: sentence-transformers in /usr/local/lib/python3.10/dist-packages (3.2.1)\n",
            "Requirement already satisfied: transformers in /usr/local/lib/python3.10/dist-packages (4.46.2)\n",
            "Requirement already satisfied: torch in /usr/local/lib/python3.10/dist-packages (2.5.1+cu121)\n",
            "Requirement already satisfied: tqdm in /usr/local/lib/python3.10/dist-packages (from sentence-transformers) (4.66.6)\n",
            "Requirement already satisfied: scikit-learn in /usr/local/lib/python3.10/dist-packages (from sentence-transformers) (1.5.2)\n",
            "Requirement already satisfied: scipy in /usr/local/lib/python3.10/dist-packages (from sentence-transformers) (1.13.1)\n",
            "Requirement already satisfied: huggingface-hub>=0.20.0 in /usr/local/lib/python3.10/dist-packages (from sentence-transformers) (0.26.2)\n",
            "Requirement already satisfied: Pillow in /usr/local/lib/python3.10/dist-packages (from sentence-transformers) (11.0.0)\n",
            "Requirement already satisfied: filelock in /usr/local/lib/python3.10/dist-packages (from transformers) (3.16.1)\n",
            "Requirement already satisfied: numpy>=1.17 in /usr/local/lib/python3.10/dist-packages (from transformers) (1.26.4)\n",
            "Requirement already satisfied: packaging>=20.0 in /usr/local/lib/python3.10/dist-packages (from transformers) (24.2)\n",
            "Requirement already satisfied: pyyaml>=5.1 in /usr/local/lib/python3.10/dist-packages (from transformers) (6.0.2)\n",
            "Requirement already satisfied: regex!=2019.12.17 in /usr/local/lib/python3.10/dist-packages (from transformers) (2024.9.11)\n",
            "Requirement already satisfied: requests in /usr/local/lib/python3.10/dist-packages (from transformers) (2.32.3)\n",
            "Requirement already satisfied: safetensors>=0.4.1 in /usr/local/lib/python3.10/dist-packages (from transformers) (0.4.5)\n",
            "Requirement already satisfied: tokenizers<0.21,>=0.20 in /usr/local/lib/python3.10/dist-packages (from transformers) (0.20.3)\n",
            "Requirement already satisfied: typing-extensions>=4.8.0 in /usr/local/lib/python3.10/dist-packages (from torch) (4.12.2)\n",
            "Requirement already satisfied: networkx in /usr/local/lib/python3.10/dist-packages (from torch) (3.4.2)\n",
            "Requirement already satisfied: jinja2 in /usr/local/lib/python3.10/dist-packages (from torch) (3.1.4)\n",
            "Requirement already satisfied: fsspec in /usr/local/lib/python3.10/dist-packages (from torch) (2024.10.0)\n",
            "Requirement already satisfied: sympy==1.13.1 in /usr/local/lib/python3.10/dist-packages (from torch) (1.13.1)\n",
            "Requirement already satisfied: mpmath<1.4,>=1.1.0 in /usr/local/lib/python3.10/dist-packages (from sympy==1.13.1->torch) (1.3.0)\n",
            "Requirement already satisfied: MarkupSafe>=2.0 in /usr/local/lib/python3.10/dist-packages (from jinja2->torch) (3.0.2)\n",
            "Requirement already satisfied: charset-normalizer<4,>=2 in /usr/local/lib/python3.10/dist-packages (from requests->transformers) (3.4.0)\n",
            "Requirement already satisfied: idna<4,>=2.5 in /usr/local/lib/python3.10/dist-packages (from requests->transformers) (3.10)\n",
            "Requirement already satisfied: urllib3<3,>=1.21.1 in /usr/local/lib/python3.10/dist-packages (from requests->transformers) (2.2.3)\n",
            "Requirement already satisfied: certifi>=2017.4.17 in /usr/local/lib/python3.10/dist-packages (from requests->transformers) (2024.8.30)\n",
            "Requirement already satisfied: joblib>=1.2.0 in /usr/local/lib/python3.10/dist-packages (from scikit-learn->sentence-transformers) (1.4.2)\n",
            "Requirement already satisfied: threadpoolctl>=3.1.0 in /usr/local/lib/python3.10/dist-packages (from scikit-learn->sentence-transformers) (3.5.0)\n"
          ]
        }
      ]
    },
    {
      "cell_type": "code",
      "source": [
        "import faiss\n",
        "from sentence_transformers import SentenceTransformer\n",
        "from transformers import BertForQuestionAnswering, BertTokenizer\n",
        "import torch"
      ],
      "metadata": {
        "id": "wg4T-vNu2GsD"
      },
      "execution_count": 6,
      "outputs": []
    },
    {
      "cell_type": "code",
      "source": [
        "# Sample knowledge base\n",
        "knowledge_base =[\n",
        "    \"The capital of Japan is Tokyo.\",\n",
        "    \"The longest river in the world is the Nile.\",\n",
        "    \"The largest ocean on Earth is the Pacific Ocean.\",\n",
        "    \"Mount Everest is the highest mountain on Earth.\",\n",
        "    \"The currency of the United Kingdom is the Pound Sterling.\",\n",
        "    \"The fastest land animal is the cheetah.\",\n",
        "    \"The human body has 23 pairs of chromosomes.\",\n",
        "    \"The Great Wall of China is over 13,000 miles long.\",\n",
        "    \"The Earth revolves around the Sun once every 365.25 days.\",\n",
        "    \"The Eiffel Tower is located in Paris, France.\",\n",
        "    \"The capital of Australia is Canberra.\",\n",
        "    \"The smallest planet in our solar system is Mercury.\",\n",
        "    \"The longest mountain range in the world is the Andes.\",\n",
        "    \"The most spoken language in the world is Mandarin Chinese.\",\n",
        "    \"The capital of Spain is Madrid.\"\n",
        "]\n"
      ],
      "metadata": {
        "id": "08CioE1i2GgV"
      },
      "execution_count": 7,
      "outputs": []
    },
    {
      "cell_type": "code",
      "source": [
        "# Step 1: Create a SentenceTransformer model for generating document embeddings\n",
        "model = SentenceTransformer('all-MiniLM-L6-v2')\n",
        "\n",
        "# Step 2: Generate embeddings for the knowledge base\n",
        "document_embeddings = model.encode(knowledge_base)\n",
        "\n",
        "# Step 3: Create a FAISS index\n",
        "dimension = document_embeddings.shape[1]\n",
        "faiss_index = faiss.IndexFlatL2(dimension)\n",
        "faiss_index.add(document_embeddings)\n",
        "\n",
        "# Load pre-trained BERT model and tokenizer for Question Answering\n",
        "model_qa = BertForQuestionAnswering.from_pretrained('bert-large-uncased-whole-word-masking-finetuned-squad')\n",
        "tokenizer = BertTokenizer.from_pretrained('bert-large-uncased-whole-word-masking-finetuned-squad')\n"
      ],
      "metadata": {
        "colab": {
          "base_uri": "https://localhost:8080/"
        },
        "id": "-dE8qIlq2GYs",
        "outputId": "128c0814-7f2a-4b7d-c972-f42e01802871"
      },
      "execution_count": 8,
      "outputs": [
        {
          "output_type": "stream",
          "name": "stderr",
          "text": [
            "Some weights of the model checkpoint at bert-large-uncased-whole-word-masking-finetuned-squad were not used when initializing BertForQuestionAnswering: ['bert.pooler.dense.bias', 'bert.pooler.dense.weight']\n",
            "- This IS expected if you are initializing BertForQuestionAnswering from the checkpoint of a model trained on another task or with another architecture (e.g. initializing a BertForSequenceClassification model from a BertForPreTraining model).\n",
            "- This IS NOT expected if you are initializing BertForQuestionAnswering from the checkpoint of a model that you expect to be exactly identical (initializing a BertForSequenceClassification model from a BertForSequenceClassification model).\n"
          ]
        }
      ]
    },
    {
      "cell_type": "code",
      "source": [
        "# Function to retrieve the most relevant document\n",
        "def retrieve_top_document(query, faiss_index, knowledge_base):\n",
        "    query_embedding = model.encode([query])  # Encode the query\n",
        "    distances, indices = faiss_index.search(query_embedding, 1)  # Retrieve top document\n",
        "    return knowledge_base[indices[0][0]], distances[0][0]\n"
      ],
      "metadata": {
        "id": "TaLd2emw2GQF"
      },
      "execution_count": 11,
      "outputs": []
    },
    {
      "cell_type": "code",
      "source": [
        "# Function for answering questions based on retrieved context\n",
        "def answer_question(context, question):\n",
        "    inputs = tokenizer.encode_plus(question, context, add_special_tokens=True, return_tensors='pt')\n",
        "    with torch.no_grad():\n",
        "        outputs = model_qa(**inputs)\n",
        "        start_scores = outputs.start_logits\n",
        "        end_scores = outputs.end_logits\n",
        "    start_index = torch.argmax(start_scores)\n",
        "    end_index = torch.argmax(end_scores)\n",
        "    answer_tokens = inputs.input_ids[0][start_index:end_index+1]\n",
        "    answer = tokenizer.decode(answer_tokens)\n",
        "    return answer\n"
      ],
      "metadata": {
        "id": "bldQoWn22GF9"
      },
      "execution_count": 12,
      "outputs": []
    },
    {
      "cell_type": "code",
      "source": [
        "while True:\n",
        "    query = input(\"Enter your question: \")\n",
        "    if(query == \"exit\"):\n",
        "        print(f\"Exiting, Goodbye!\")\n",
        "        break\n",
        "    # Retrieve the most relevant document from the knowledge base\n",
        "    context, score = retrieve_top_document(query, faiss_index, knowledge_base)\n",
        "    print(f\"Retrieved Context: {context} (Score: {score})\")\n",
        "\n",
        "    # Generate an answer using BERT\n",
        "    answer = answer_question(context, query)\n",
        "    print(f\"Answer: {answer}\")"
      ],
      "metadata": {
        "colab": {
          "base_uri": "https://localhost:8080/"
        },
        "id": "_XcsPmRh2Fei",
        "outputId": "955041d0-d57d-4c98-ca2f-428743875bdf"
      },
      "execution_count": 16,
      "outputs": [
        {
          "output_type": "stream",
          "name": "stdout",
          "text": [
            "Enter your question: what is the smallest planet in our solar system\n",
            "Retrieved Context: The smallest planet in our solar system is Mercury. (Score: 0.23081859946250916)\n",
            "Answer: mercury\n",
            "Enter your question: how long is great wall of china\n",
            "Retrieved Context: The Great Wall of China is over 13,000 miles long. (Score: 0.3596913516521454)\n",
            "Answer: over 13, 000 miles\n",
            "Enter your question: exit\n",
            "Exiting, Goodbye!\n"
          ]
        }
      ]
    }
  ]
}